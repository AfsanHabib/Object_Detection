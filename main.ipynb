{
 "cells": [
  {
   "cell_type": "code",
   "execution_count": 89,
   "id": "3d1ba3b0",
   "metadata": {},
   "outputs": [],
   "source": [
    "import cv2\n",
    "import numpy as np\n",
    "import random"
   ]
  },
  {
   "cell_type": "code",
   "execution_count": 90,
   "id": "5d8ea652",
   "metadata": {},
   "outputs": [],
   "source": [
    "R=random.randint(0,255)\n",
    "G=random.randint(0,255)\n",
    "B=random.randint(0,255)"
   ]
  },
  {
   "cell_type": "code",
   "execution_count": 91,
   "id": "bee1e43b",
   "metadata": {},
   "outputs": [],
   "source": [
    "video=cv2.VideoCapture(0)"
   ]
  },
  {
   "cell_type": "code",
   "execution_count": 92,
   "id": "04f35d1e",
   "metadata": {},
   "outputs": [],
   "source": [
    "CLASSES = [\"background\", \"aeroplane\", \"bicycle\", \"bird\", \"boat\",\"bottle\", \"bus\", \"car\", \"cat\", \"chair\", \"cow\", \"diningtable\",\"dog\", \"horse\", \"motorbike\", \"person\", \"pottedplant\", \"sheep\",\"sofa\", \"train\", \"tvmonitor\"]\n",
    "\n",
    "\n",
    "color=[(R,G,B) for i in CLASSES]"
   ]
  },
  {
   "cell_type": "code",
   "execution_count": 93,
   "id": "ef475e49",
   "metadata": {},
   "outputs": [],
   "source": [
    "net=cv2.dnn.readNetFromCaffe('MobileNetSSD_deploy.prototxt.txt','MobileNetSSD_deploy.caffemodel')"
   ]
  },
  {
   "cell_type": "code",
   "execution_count": 94,
   "id": "fb551773",
   "metadata": {
    "scrolled": true
   },
   "outputs": [],
   "source": [
    "while True:\n",
    "    ret, frame=video.read()\n",
    "    frame=cv2.resize(frame,(640,480))\n",
    "    (h,w)=frame.shape[:2]\n",
    "    blob=cv2.dnn.blobFromImage(cv2.resize(frame,(300,300)),0.007843,(300,300),127.5)\n",
    "    net.setInput(blob)\n",
    "    \n",
    "    detections=net.forward()\n",
    "#     print(detections)\n",
    "    \n",
    "    \n",
    "    for i in np.arange(0,detections.shape[2]):\n",
    "        confidence=detections[0,0,i,2]\n",
    "        \n",
    "        if confidence>0.5:\n",
    "            id=detections[0,0,i,1]\n",
    "            box=detections[0,0,i,3:7]*np.array([w,h,w,h])\n",
    "            (startX,startY,endX,endY)=box.astype(\"int\")\n",
    "            \n",
    "            cv2.rectangle(frame,(startX-1,startY-40),(endX+1,startY-3),color[int(id)],-1)\n",
    "            \n",
    "            cv2.rectangle(frame,(startX,startY),(endX,endY),color[int(id)],4)\n",
    "            \n",
    "            cv2.putText(frame,CLASSES[int(id)],(startX+1,startY-15),cv2.FONT_HERSHEY_SIMPLEX,0.7,(255,255,255))\n",
    "    \n",
    "    cv2.imshow(\"WindowFrame\", frame)\n",
    "    k=cv2.waitKey(1)\n",
    "    if k==ord('q'):\n",
    "        break\n",
    "\n",
    "video.release()\n",
    "cv2.destroyAllWindows()"
   ]
  },
  {
   "cell_type": "code",
   "execution_count": null,
   "id": "0e8ef5a9",
   "metadata": {},
   "outputs": [],
   "source": []
  }
 ],
 "metadata": {
  "kernelspec": {
   "display_name": "Python 3 (ipykernel)",
   "language": "python",
   "name": "python3"
  },
  "language_info": {
   "codemirror_mode": {
    "name": "ipython",
    "version": 3
   },
   "file_extension": ".py",
   "mimetype": "text/x-python",
   "name": "python",
   "nbconvert_exporter": "python",
   "pygments_lexer": "ipython3",
   "version": "3.9.7"
  }
 },
 "nbformat": 4,
 "nbformat_minor": 5
}
